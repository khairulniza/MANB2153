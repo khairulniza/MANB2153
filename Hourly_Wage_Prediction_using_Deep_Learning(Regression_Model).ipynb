{
  "nbformat": 4,
  "nbformat_minor": 0,
  "metadata": {
    "colab": {
      "name": "Hourly Wage Prediction using Deep Learning(Regression Model).ipynb",
      "version": "0.3.2",
      "provenance": [],
      "include_colab_link": true
    },
    "kernelspec": {
      "name": "python3",
      "display_name": "Python 3"
    }
  },
  "cells": [
    {
      "cell_type": "markdown",
      "metadata": {
        "id": "view-in-github",
        "colab_type": "text"
      },
      "source": [
        "<a href=\"https://colab.research.google.com/github/khairulniza/MANB2153/blob/master/Hourly_Wage_Prediction_using_Deep_Learning(Regression_Model).ipynb\" target=\"_parent\"><img src=\"https://colab.research.google.com/assets/colab-badge.svg\" alt=\"Open In Colab\"/></a>"
      ]
    },
    {
      "metadata": {
        "id": "LeP26k6-7AU4",
        "colab_type": "code",
        "colab": {}
      },
      "cell_type": "code",
      "source": [
        "#mount my gd to colab\n",
        "from google.colab import drive\n",
        "drive.mount('/content/gdrive')"
      ],
      "execution_count": 0,
      "outputs": []
    },
    {
      "metadata": {
        "id": "u4ktH7gN7Op5",
        "colab_type": "code",
        "colab": {
          "base_uri": "https://localhost:8080/",
          "height": 195
        },
        "outputId": "df5ee4b0-c4c2-492c-8a65-ffd752623d55"
      },
      "cell_type": "code",
      "source": [
        "#read data from gd using pandas\n",
        "import pandas as pd\n",
        "df=pd.read_csv('gdrive/My Drive/Data Set/Income_training.csv')\n",
        "df.head(5)"
      ],
      "execution_count": 35,
      "outputs": [
        {
          "output_type": "execute_result",
          "data": {
            "text/html": [
              "<div>\n",
              "<style scoped>\n",
              "    .dataframe tbody tr th:only-of-type {\n",
              "        vertical-align: middle;\n",
              "    }\n",
              "\n",
              "    .dataframe tbody tr th {\n",
              "        vertical-align: top;\n",
              "    }\n",
              "\n",
              "    .dataframe thead th {\n",
              "        text-align: right;\n",
              "    }\n",
              "</style>\n",
              "<table border=\"1\" class=\"dataframe\">\n",
              "  <thead>\n",
              "    <tr style=\"text-align: right;\">\n",
              "      <th></th>\n",
              "      <th>compositeHourlyWages</th>\n",
              "      <th>age</th>\n",
              "      <th>yearsEducation</th>\n",
              "      <th>sex1M0F</th>\n",
              "    </tr>\n",
              "  </thead>\n",
              "  <tbody>\n",
              "    <tr>\n",
              "      <th>0</th>\n",
              "      <td>21.38</td>\n",
              "      <td>58</td>\n",
              "      <td>10</td>\n",
              "      <td>1</td>\n",
              "    </tr>\n",
              "    <tr>\n",
              "      <th>1</th>\n",
              "      <td>25.15</td>\n",
              "      <td>42</td>\n",
              "      <td>16</td>\n",
              "      <td>1</td>\n",
              "    </tr>\n",
              "    <tr>\n",
              "      <th>2</th>\n",
              "      <td>8.57</td>\n",
              "      <td>31</td>\n",
              "      <td>12</td>\n",
              "      <td>0</td>\n",
              "    </tr>\n",
              "    <tr>\n",
              "      <th>3</th>\n",
              "      <td>12.07</td>\n",
              "      <td>43</td>\n",
              "      <td>13</td>\n",
              "      <td>0</td>\n",
              "    </tr>\n",
              "    <tr>\n",
              "      <th>4</th>\n",
              "      <td>10.97</td>\n",
              "      <td>46</td>\n",
              "      <td>12</td>\n",
              "      <td>0</td>\n",
              "    </tr>\n",
              "  </tbody>\n",
              "</table>\n",
              "</div>"
            ],
            "text/plain": [
              "   compositeHourlyWages  age  yearsEducation  sex1M0F\n",
              "0                 21.38   58              10        1\n",
              "1                 25.15   42              16        1\n",
              "2                  8.57   31              12        0\n",
              "3                 12.07   43              13        0\n",
              "4                 10.97   46              12        0"
            ]
          },
          "metadata": {
            "tags": []
          },
          "execution_count": 35
        }
      ]
    },
    {
      "metadata": {
        "id": "f_aRmfhu7il_",
        "colab_type": "code",
        "colab": {
          "base_uri": "https://localhost:8080/",
          "height": 195
        },
        "outputId": "3815eb50-c274-4a3e-80ea-9663d1864e1e"
      },
      "cell_type": "code",
      "source": [
        "#drop compositeHourlyWages as target attribute\n",
        "train_X = df.drop(columns=['compositeHourlyWages'])\n",
        "train_X.head()"
      ],
      "execution_count": 8,
      "outputs": [
        {
          "output_type": "execute_result",
          "data": {
            "text/html": [
              "<div>\n",
              "<style scoped>\n",
              "    .dataframe tbody tr th:only-of-type {\n",
              "        vertical-align: middle;\n",
              "    }\n",
              "\n",
              "    .dataframe tbody tr th {\n",
              "        vertical-align: top;\n",
              "    }\n",
              "\n",
              "    .dataframe thead th {\n",
              "        text-align: right;\n",
              "    }\n",
              "</style>\n",
              "<table border=\"1\" class=\"dataframe\">\n",
              "  <thead>\n",
              "    <tr style=\"text-align: right;\">\n",
              "      <th></th>\n",
              "      <th>age</th>\n",
              "      <th>yearsEducation</th>\n",
              "      <th>sex1M0F</th>\n",
              "    </tr>\n",
              "  </thead>\n",
              "  <tbody>\n",
              "    <tr>\n",
              "      <th>0</th>\n",
              "      <td>58</td>\n",
              "      <td>10</td>\n",
              "      <td>1</td>\n",
              "    </tr>\n",
              "    <tr>\n",
              "      <th>1</th>\n",
              "      <td>42</td>\n",
              "      <td>16</td>\n",
              "      <td>1</td>\n",
              "    </tr>\n",
              "    <tr>\n",
              "      <th>2</th>\n",
              "      <td>31</td>\n",
              "      <td>12</td>\n",
              "      <td>0</td>\n",
              "    </tr>\n",
              "    <tr>\n",
              "      <th>3</th>\n",
              "      <td>43</td>\n",
              "      <td>13</td>\n",
              "      <td>0</td>\n",
              "    </tr>\n",
              "    <tr>\n",
              "      <th>4</th>\n",
              "      <td>46</td>\n",
              "      <td>12</td>\n",
              "      <td>0</td>\n",
              "    </tr>\n",
              "  </tbody>\n",
              "</table>\n",
              "</div>"
            ],
            "text/plain": [
              "   age  yearsEducation  sex1M0F\n",
              "0   58              10        1\n",
              "1   42              16        1\n",
              "2   31              12        0\n",
              "3   43              13        0\n",
              "4   46              12        0"
            ]
          },
          "metadata": {
            "tags": []
          },
          "execution_count": 8
        }
      ]
    },
    {
      "metadata": {
        "id": "msBioRAx7_ML",
        "colab_type": "code",
        "colab": {
          "base_uri": "https://localhost:8080/",
          "height": 195
        },
        "outputId": "4e663ffa-64ad-4d07-ec77-4f603cb2388e"
      },
      "cell_type": "code",
      "source": [
        "# check the target attribute\n",
        "train_y = df[['compositeHourlyWages']]\n",
        "train_y.head()"
      ],
      "execution_count": 10,
      "outputs": [
        {
          "output_type": "execute_result",
          "data": {
            "text/html": [
              "<div>\n",
              "<style scoped>\n",
              "    .dataframe tbody tr th:only-of-type {\n",
              "        vertical-align: middle;\n",
              "    }\n",
              "\n",
              "    .dataframe tbody tr th {\n",
              "        vertical-align: top;\n",
              "    }\n",
              "\n",
              "    .dataframe thead th {\n",
              "        text-align: right;\n",
              "    }\n",
              "</style>\n",
              "<table border=\"1\" class=\"dataframe\">\n",
              "  <thead>\n",
              "    <tr style=\"text-align: right;\">\n",
              "      <th></th>\n",
              "      <th>compositeHourlyWages</th>\n",
              "    </tr>\n",
              "  </thead>\n",
              "  <tbody>\n",
              "    <tr>\n",
              "      <th>0</th>\n",
              "      <td>21.38</td>\n",
              "    </tr>\n",
              "    <tr>\n",
              "      <th>1</th>\n",
              "      <td>25.15</td>\n",
              "    </tr>\n",
              "    <tr>\n",
              "      <th>2</th>\n",
              "      <td>8.57</td>\n",
              "    </tr>\n",
              "    <tr>\n",
              "      <th>3</th>\n",
              "      <td>12.07</td>\n",
              "    </tr>\n",
              "    <tr>\n",
              "      <th>4</th>\n",
              "      <td>10.97</td>\n",
              "    </tr>\n",
              "  </tbody>\n",
              "</table>\n",
              "</div>"
            ],
            "text/plain": [
              "   compositeHourlyWages\n",
              "0                 21.38\n",
              "1                 25.15\n",
              "2                  8.57\n",
              "3                 12.07\n",
              "4                 10.97"
            ]
          },
          "metadata": {
            "tags": []
          },
          "execution_count": 10
        }
      ]
    },
    {
      "metadata": {
        "id": "TzBAhey-8MzQ",
        "colab_type": "code",
        "colab": {}
      },
      "cell_type": "code",
      "source": [
        "from keras.models import Sequential\n",
        "from keras.layers import Dense\n",
        "#create model\n",
        "model = Sequential()\n",
        "\n",
        "#get number of columns in training data\n",
        "n_cols = train_X.shape[1]\n",
        "\n",
        "#add model layers\n",
        "model.add(Dense(100, activation='relu', input_shape=(n_cols,)))\n",
        "model.add(Dense(100, activation='relu'))\n",
        "model.add(Dense(1))"
      ],
      "execution_count": 0,
      "outputs": []
    },
    {
      "metadata": {
        "id": "8-xRbq1J8iK5",
        "colab_type": "code",
        "colab": {}
      },
      "cell_type": "code",
      "source": [
        "#compile model using mse as a measure of model performance\n",
        "model.compile(optimizer='adam', loss='mean_squared_error')"
      ],
      "execution_count": 0,
      "outputs": []
    },
    {
      "metadata": {
        "id": "U0OizuKm8nOV",
        "colab_type": "code",
        "colab": {
          "base_uri": "https://localhost:8080/",
          "height": 1042
        },
        "outputId": "cade612e-a33b-459a-d811-54200f61d282"
      },
      "cell_type": "code",
      "source": [
        "from keras.callbacks import EarlyStopping\n",
        "#set early stopping monitor so the model stops training when it won't improve anymore\n",
        "early_stopping_monitor = EarlyStopping(patience=3)\n",
        "#train model\n",
        "model.fit(train_X, train_y, epochs=30)"
      ],
      "execution_count": 41,
      "outputs": [
        {
          "output_type": "stream",
          "text": [
            "Epoch 1/30\n",
            "3197/3197 [==============================] - 1s 178us/step - loss: 54.7583\n",
            "Epoch 2/30\n",
            "3197/3197 [==============================] - 0s 41us/step - loss: 44.3192\n",
            "Epoch 3/30\n",
            "3197/3197 [==============================] - 0s 40us/step - loss: 43.1194\n",
            "Epoch 4/30\n",
            "3197/3197 [==============================] - 0s 39us/step - loss: 43.3166\n",
            "Epoch 5/30\n",
            "3197/3197 [==============================] - 0s 40us/step - loss: 41.4200\n",
            "Epoch 6/30\n",
            "3197/3197 [==============================] - 0s 40us/step - loss: 41.1119\n",
            "Epoch 7/30\n",
            "3197/3197 [==============================] - 0s 40us/step - loss: 41.1737\n",
            "Epoch 8/30\n",
            "3197/3197 [==============================] - 0s 42us/step - loss: 40.7999\n",
            "Epoch 9/30\n",
            "3197/3197 [==============================] - 0s 41us/step - loss: 41.3903\n",
            "Epoch 10/30\n",
            "3197/3197 [==============================] - 0s 40us/step - loss: 40.1701\n",
            "Epoch 11/30\n",
            "3197/3197 [==============================] - 0s 41us/step - loss: 40.9395\n",
            "Epoch 12/30\n",
            "3197/3197 [==============================] - 0s 41us/step - loss: 40.3613\n",
            "Epoch 13/30\n",
            "3197/3197 [==============================] - 0s 39us/step - loss: 40.7126\n",
            "Epoch 14/30\n",
            "3197/3197 [==============================] - 0s 40us/step - loss: 40.0366\n",
            "Epoch 15/30\n",
            "3197/3197 [==============================] - 0s 41us/step - loss: 39.9625\n",
            "Epoch 16/30\n",
            "3197/3197 [==============================] - 0s 40us/step - loss: 40.0859\n",
            "Epoch 17/30\n",
            "3197/3197 [==============================] - 0s 40us/step - loss: 39.8955\n",
            "Epoch 18/30\n",
            "3197/3197 [==============================] - 0s 41us/step - loss: 39.7278\n",
            "Epoch 19/30\n",
            "3197/3197 [==============================] - 0s 40us/step - loss: 39.4779\n",
            "Epoch 20/30\n",
            "3197/3197 [==============================] - 0s 41us/step - loss: 39.7517\n",
            "Epoch 21/30\n",
            "3197/3197 [==============================] - 0s 41us/step - loss: 39.2273\n",
            "Epoch 22/30\n",
            "3197/3197 [==============================] - 0s 41us/step - loss: 39.6084\n",
            "Epoch 23/30\n",
            "3197/3197 [==============================] - 0s 41us/step - loss: 39.1675\n",
            "Epoch 24/30\n",
            "3197/3197 [==============================] - 0s 43us/step - loss: 39.5573\n",
            "Epoch 25/30\n",
            "3197/3197 [==============================] - 0s 41us/step - loss: 39.3579\n",
            "Epoch 26/30\n",
            "3197/3197 [==============================] - 0s 41us/step - loss: 39.1663\n",
            "Epoch 27/30\n",
            "3197/3197 [==============================] - 0s 41us/step - loss: 39.2494\n",
            "Epoch 28/30\n",
            "3197/3197 [==============================] - 0s 40us/step - loss: 39.5993\n",
            "Epoch 29/30\n",
            "3197/3197 [==============================] - 0s 42us/step - loss: 39.6021\n",
            "Epoch 30/30\n",
            "3197/3197 [==============================] - 0s 40us/step - loss: 38.7975\n"
          ],
          "name": "stdout"
        },
        {
          "output_type": "execute_result",
          "data": {
            "text/plain": [
              "<keras.callbacks.History at 0x7f0a59ef9438>"
            ]
          },
          "metadata": {
            "tags": []
          },
          "execution_count": 41
        }
      ]
    },
    {
      "metadata": {
        "id": "TKXRF-Tb8tvV",
        "colab_type": "code",
        "colab": {
          "base_uri": "https://localhost:8080/",
          "height": 1042
        },
        "outputId": "5bbf2a84-5cd7-472a-de5d-e5730bf7b5cf"
      },
      "cell_type": "code",
      "source": [
        "#training a new model on the same data to show the effect of increasing model capacity\n",
        "\n",
        "#create model\n",
        "model_mc = Sequential()\n",
        "\n",
        "#add model layers\n",
        "model_mc.add(Dense(200, activation='relu', input_shape=(n_cols,)))\n",
        "model_mc.add(Dense(200, activation='relu'))\n",
        "model_mc.add(Dense(200, activation='relu'))\n",
        "model_mc.add(Dense(1))\n",
        "\n",
        "#compile model using mse as a measure of model performance\n",
        "model_mc.compile(optimizer='adam', loss='mean_squared_error')\n",
        "#train model\n",
        "model_mc.fit(train_X, train_y, epochs=30,)"
      ],
      "execution_count": 33,
      "outputs": [
        {
          "output_type": "stream",
          "text": [
            "Epoch 1/30\n",
            "3197/3197 [==============================] - 1s 201us/step - loss: 57.3343\n",
            "Epoch 2/30\n",
            "3197/3197 [==============================] - 0s 106us/step - loss: 42.9654\n",
            "Epoch 3/30\n",
            "3197/3197 [==============================] - 0s 104us/step - loss: 42.5246\n",
            "Epoch 4/30\n",
            "3197/3197 [==============================] - 0s 102us/step - loss: 41.8445\n",
            "Epoch 5/30\n",
            "3197/3197 [==============================] - 0s 103us/step - loss: 41.4032\n",
            "Epoch 6/30\n",
            "3197/3197 [==============================] - 0s 103us/step - loss: 40.5544\n",
            "Epoch 7/30\n",
            "3197/3197 [==============================] - 0s 103us/step - loss: 40.7933\n",
            "Epoch 8/30\n",
            "3197/3197 [==============================] - 0s 102us/step - loss: 41.3199\n",
            "Epoch 9/30\n",
            "3197/3197 [==============================] - 0s 99us/step - loss: 40.7765\n",
            "Epoch 10/30\n",
            "3197/3197 [==============================] - 0s 99us/step - loss: 40.5041\n",
            "Epoch 11/30\n",
            "3197/3197 [==============================] - 0s 104us/step - loss: 40.1089\n",
            "Epoch 12/30\n",
            "3197/3197 [==============================] - 0s 106us/step - loss: 41.2349\n",
            "Epoch 13/30\n",
            "3197/3197 [==============================] - 0s 108us/step - loss: 40.1384\n",
            "Epoch 14/30\n",
            "3197/3197 [==============================] - 0s 106us/step - loss: 39.6602\n",
            "Epoch 15/30\n",
            "3197/3197 [==============================] - 0s 113us/step - loss: 40.0827\n",
            "Epoch 16/30\n",
            "3197/3197 [==============================] - 0s 116us/step - loss: 39.7184\n",
            "Epoch 17/30\n",
            "3197/3197 [==============================] - 0s 111us/step - loss: 39.9055\n",
            "Epoch 18/30\n",
            "3197/3197 [==============================] - 0s 106us/step - loss: 39.2955\n",
            "Epoch 19/30\n",
            "3197/3197 [==============================] - 0s 105us/step - loss: 39.8161\n",
            "Epoch 20/30\n",
            "3197/3197 [==============================] - 0s 108us/step - loss: 39.7285\n",
            "Epoch 21/30\n",
            "3197/3197 [==============================] - 0s 105us/step - loss: 39.8864\n",
            "Epoch 22/30\n",
            "3197/3197 [==============================] - 0s 105us/step - loss: 39.5675\n",
            "Epoch 23/30\n",
            "3197/3197 [==============================] - 0s 105us/step - loss: 39.3411\n",
            "Epoch 24/30\n",
            "3197/3197 [==============================] - 0s 109us/step - loss: 39.5947\n",
            "Epoch 25/30\n",
            "3197/3197 [==============================] - 0s 106us/step - loss: 39.3125\n",
            "Epoch 26/30\n",
            "3197/3197 [==============================] - 0s 107us/step - loss: 39.3492\n",
            "Epoch 27/30\n",
            "3197/3197 [==============================] - 0s 106us/step - loss: 39.5769\n",
            "Epoch 28/30\n",
            "3197/3197 [==============================] - 0s 106us/step - loss: 39.4470\n",
            "Epoch 29/30\n",
            "3197/3197 [==============================] - 0s 108us/step - loss: 39.6546\n",
            "Epoch 30/30\n",
            "3197/3197 [==============================] - 0s 110us/step - loss: 39.6780\n"
          ],
          "name": "stdout"
        },
        {
          "output_type": "execute_result",
          "data": {
            "text/plain": [
              "<keras.callbacks.History at 0x7f0a5a6e55f8>"
            ]
          },
          "metadata": {
            "tags": []
          },
          "execution_count": 33
        }
      ]
    }
  ]
}