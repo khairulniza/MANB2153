{
  "nbformat": 4,
  "nbformat_minor": 0,
  "metadata": {
    "colab": {
      "name": "Quiz2-Khairulniza.ipynb",
      "version": "0.3.2",
      "provenance": [],
      "include_colab_link": true
    },
    "kernelspec": {
      "name": "python3",
      "display_name": "Python 3"
    },
    "accelerator": "GPU"
  },
  "cells": [
    {
      "cell_type": "markdown",
      "metadata": {
        "id": "view-in-github",
        "colab_type": "text"
      },
      "source": [
        "<a href=\"https://colab.research.google.com/github/khairulniza/MANB2153/blob/master/Quiz2_Khairulniza.ipynb\" target=\"_parent\"><img src=\"https://colab.research.google.com/assets/colab-badge.svg\" alt=\"Open In Colab\"/></a>"
      ]
    },
    {
      "metadata": {
        "id": "jbbCjQHtjiSE",
        "colab_type": "code",
        "colab": {
          "base_uri": "https://localhost:8080/",
          "height": 121
        },
        "outputId": "c16ee899-df58-492a-8702-408d48b29523"
      },
      "cell_type": "code",
      "source": [
        "from google.colab import drive\n",
        "drive.mount('/content/gdrive')\n"
      ],
      "execution_count": 3,
      "outputs": [
        {
          "output_type": "stream",
          "text": [
            "Go to this URL in a browser: https://accounts.google.com/o/oauth2/auth?client_id=947318989803-6bn6qk8qdgf4n4g3pfee6491hc0brc4i.apps.googleusercontent.com&redirect_uri=urn%3Aietf%3Awg%3Aoauth%3A2.0%3Aoob&scope=email%20https%3A%2F%2Fwww.googleapis.com%2Fauth%2Fdocs.test%20https%3A%2F%2Fwww.googleapis.com%2Fauth%2Fdrive%20https%3A%2F%2Fwww.googleapis.com%2Fauth%2Fdrive.photos.readonly%20https%3A%2F%2Fwww.googleapis.com%2Fauth%2Fpeopleapi.readonly&response_type=code\n",
            "\n",
            "Enter your authorization code:\n",
            "··········\n",
            "Mounted at /content/gdrive\n"
          ],
          "name": "stdout"
        }
      ]
    },
    {
      "metadata": {
        "id": "oIut2nPsj5rQ",
        "colab_type": "code",
        "colab": {
          "base_uri": "https://localhost:8080/",
          "height": 195
        },
        "outputId": "561939e2-4968-493b-83ef-a181e5c27e9d"
      },
      "cell_type": "code",
      "source": [
        "#read data from gd using pandas\n",
        "import pandas as pd\n",
        "df=pd.read_csv('gdrive/My Drive/heart.csv')\n",
        "df.head()"
      ],
      "execution_count": 5,
      "outputs": [
        {
          "output_type": "execute_result",
          "data": {
            "text/html": [
              "<div>\n",
              "<style scoped>\n",
              "    .dataframe tbody tr th:only-of-type {\n",
              "        vertical-align: middle;\n",
              "    }\n",
              "\n",
              "    .dataframe tbody tr th {\n",
              "        vertical-align: top;\n",
              "    }\n",
              "\n",
              "    .dataframe thead th {\n",
              "        text-align: right;\n",
              "    }\n",
              "</style>\n",
              "<table border=\"1\" class=\"dataframe\">\n",
              "  <thead>\n",
              "    <tr style=\"text-align: right;\">\n",
              "      <th></th>\n",
              "      <th>age</th>\n",
              "      <th>sex</th>\n",
              "      <th>cp</th>\n",
              "      <th>trestbps</th>\n",
              "      <th>chol</th>\n",
              "      <th>fbs</th>\n",
              "      <th>restecg</th>\n",
              "      <th>thalach</th>\n",
              "      <th>exang</th>\n",
              "      <th>oldpeak</th>\n",
              "      <th>slope</th>\n",
              "      <th>ca</th>\n",
              "      <th>thal</th>\n",
              "      <th>target</th>\n",
              "    </tr>\n",
              "  </thead>\n",
              "  <tbody>\n",
              "    <tr>\n",
              "      <th>0</th>\n",
              "      <td>63</td>\n",
              "      <td>1</td>\n",
              "      <td>3</td>\n",
              "      <td>145</td>\n",
              "      <td>233</td>\n",
              "      <td>1</td>\n",
              "      <td>0</td>\n",
              "      <td>150</td>\n",
              "      <td>0</td>\n",
              "      <td>2.3</td>\n",
              "      <td>0</td>\n",
              "      <td>0</td>\n",
              "      <td>1</td>\n",
              "      <td>1</td>\n",
              "    </tr>\n",
              "    <tr>\n",
              "      <th>1</th>\n",
              "      <td>37</td>\n",
              "      <td>1</td>\n",
              "      <td>2</td>\n",
              "      <td>130</td>\n",
              "      <td>250</td>\n",
              "      <td>0</td>\n",
              "      <td>1</td>\n",
              "      <td>187</td>\n",
              "      <td>0</td>\n",
              "      <td>3.5</td>\n",
              "      <td>0</td>\n",
              "      <td>0</td>\n",
              "      <td>2</td>\n",
              "      <td>1</td>\n",
              "    </tr>\n",
              "    <tr>\n",
              "      <th>2</th>\n",
              "      <td>41</td>\n",
              "      <td>0</td>\n",
              "      <td>1</td>\n",
              "      <td>130</td>\n",
              "      <td>204</td>\n",
              "      <td>0</td>\n",
              "      <td>0</td>\n",
              "      <td>172</td>\n",
              "      <td>0</td>\n",
              "      <td>1.4</td>\n",
              "      <td>2</td>\n",
              "      <td>0</td>\n",
              "      <td>2</td>\n",
              "      <td>1</td>\n",
              "    </tr>\n",
              "    <tr>\n",
              "      <th>3</th>\n",
              "      <td>56</td>\n",
              "      <td>1</td>\n",
              "      <td>1</td>\n",
              "      <td>120</td>\n",
              "      <td>236</td>\n",
              "      <td>0</td>\n",
              "      <td>1</td>\n",
              "      <td>178</td>\n",
              "      <td>0</td>\n",
              "      <td>0.8</td>\n",
              "      <td>2</td>\n",
              "      <td>0</td>\n",
              "      <td>2</td>\n",
              "      <td>1</td>\n",
              "    </tr>\n",
              "    <tr>\n",
              "      <th>4</th>\n",
              "      <td>57</td>\n",
              "      <td>0</td>\n",
              "      <td>0</td>\n",
              "      <td>120</td>\n",
              "      <td>354</td>\n",
              "      <td>0</td>\n",
              "      <td>1</td>\n",
              "      <td>163</td>\n",
              "      <td>1</td>\n",
              "      <td>0.6</td>\n",
              "      <td>2</td>\n",
              "      <td>0</td>\n",
              "      <td>2</td>\n",
              "      <td>1</td>\n",
              "    </tr>\n",
              "  </tbody>\n",
              "</table>\n",
              "</div>"
            ],
            "text/plain": [
              "   age  sex  cp  trestbps  chol  fbs  restecg  thalach  exang  oldpeak  slope  \\\n",
              "0   63    1   3       145   233    1        0      150      0      2.3      0   \n",
              "1   37    1   2       130   250    0        1      187      0      3.5      0   \n",
              "2   41    0   1       130   204    0        0      172      0      1.4      2   \n",
              "3   56    1   1       120   236    0        1      178      0      0.8      2   \n",
              "4   57    0   0       120   354    0        1      163      1      0.6      2   \n",
              "\n",
              "   ca  thal  target  \n",
              "0   0     1       1  \n",
              "1   0     2       1  \n",
              "2   0     2       1  \n",
              "3   0     2       1  \n",
              "4   0     2       1  "
            ]
          },
          "metadata": {
            "tags": []
          },
          "execution_count": 5
        }
      ]
    },
    {
      "metadata": {
        "id": "5An_7fy1kZcO",
        "colab_type": "text"
      },
      "cell_type": "markdown",
      "source": [
        "Q.1: It is a classification problem where we want to predict presense of heart disease in patient "
      ]
    },
    {
      "metadata": {
        "id": "cvBhl1IwkSGX",
        "colab_type": "code",
        "colab": {}
      },
      "cell_type": "code",
      "source": [
        "from sklearn.model_selection import train_test_split\n",
        "X = df.drop(\"target\", axis=1).values\n",
        "y = df.iloc[:,-1:].values"
      ],
      "execution_count": 0,
      "outputs": []
    },
    {
      "metadata": {
        "id": "GwIRT5cTkz17",
        "colab_type": "code",
        "colab": {}
      },
      "cell_type": "code",
      "source": [
        "X_train,X_test,y_train,y_test=train_test_split(X,y,test_size=0.30, random_state=42)"
      ],
      "execution_count": 0,
      "outputs": []
    },
    {
      "metadata": {
        "id": "Txxb9KnpleFI",
        "colab_type": "code",
        "colab": {}
      },
      "cell_type": "code",
      "source": [
        "from keras.models import Sequential\n",
        "from keras.layers import Dense\n",
        "from keras.utils import to_categorical\n",
        "#one-hot encode target column, heart issue put as [0 1] no issue [1 0] \n",
        "y_train = to_categorical(df.target)\n",
        "\n",
        "#vcheck that target column has been converted\n",
        "model=Sequential()\n",
        "n_cols=X_train.shape[1]"
      ],
      "execution_count": 0,
      "outputs": []
    },
    {
      "metadata": {
        "id": "M4o9Vud-l6a4",
        "colab_type": "code",
        "colab": {}
      },
      "cell_type": "code",
      "source": [
        "model.add(Dense(250, activation='relu', input_shape=(n_cols,)))\n",
        "model.add(Dense(250, activation='relu'))\n",
        "model.add(Dense(250, activation='relu'))\n",
        "model.add(Dense(250, activation='relu'))\n",
        "model.add(Dense(1, activation='softmax'))"
      ],
      "execution_count": 0,
      "outputs": []
    },
    {
      "metadata": {
        "id": "H4nA04_GmnzK",
        "colab_type": "code",
        "colab": {}
      },
      "cell_type": "code",
      "source": [
        "model.compile(optimizer='adam', loss='binary_crossentropy', metrics=['accuracy'])"
      ],
      "execution_count": 0,
      "outputs": []
    },
    {
      "metadata": {
        "id": "-DsZDkwmm9Ci",
        "colab_type": "code",
        "colab": {
          "base_uri": "https://localhost:8080/",
          "height": 1058
        },
        "outputId": "04f2227c-3c73-4ce6-c738-6538de96a39e"
      },
      "cell_type": "code",
      "source": [
        "from keras.callbacks import EarlyStopping\n",
        "early_stopping_monitor = EarlyStopping(patience=3)\n",
        "\n",
        "model.fit(X, y, epochs=30, validation_split=0.2)"
      ],
      "execution_count": 14,
      "outputs": [
        {
          "output_type": "stream",
          "text": [
            "Train on 242 samples, validate on 61 samples\n",
            "Epoch 1/30\n",
            "242/242 [==============================] - 1s 2ms/step - loss: 5.0726 - acc: 0.6818 - val_loss: 15.9424 - val_acc: 0.0000e+00\n",
            "Epoch 2/30\n",
            "242/242 [==============================] - 0s 268us/step - loss: 5.0726 - acc: 0.6818 - val_loss: 15.9424 - val_acc: 0.0000e+00\n",
            "Epoch 3/30\n",
            "242/242 [==============================] - 0s 244us/step - loss: 5.0726 - acc: 0.6818 - val_loss: 15.9424 - val_acc: 0.0000e+00\n",
            "Epoch 4/30\n",
            "242/242 [==============================] - 0s 254us/step - loss: 5.0726 - acc: 0.6818 - val_loss: 15.9424 - val_acc: 0.0000e+00\n",
            "Epoch 5/30\n",
            "242/242 [==============================] - 0s 278us/step - loss: 5.0726 - acc: 0.6818 - val_loss: 15.9424 - val_acc: 0.0000e+00\n",
            "Epoch 6/30\n",
            "242/242 [==============================] - 0s 265us/step - loss: 5.0726 - acc: 0.6818 - val_loss: 15.9424 - val_acc: 0.0000e+00\n",
            "Epoch 7/30\n",
            "242/242 [==============================] - 0s 282us/step - loss: 5.0726 - acc: 0.6818 - val_loss: 15.9424 - val_acc: 0.0000e+00\n",
            "Epoch 8/30\n",
            "242/242 [==============================] - 0s 266us/step - loss: 5.0726 - acc: 0.6818 - val_loss: 15.9424 - val_acc: 0.0000e+00\n",
            "Epoch 9/30\n",
            "242/242 [==============================] - 0s 262us/step - loss: 5.0726 - acc: 0.6818 - val_loss: 15.9424 - val_acc: 0.0000e+00\n",
            "Epoch 10/30\n",
            "242/242 [==============================] - 0s 280us/step - loss: 5.0726 - acc: 0.6818 - val_loss: 15.9424 - val_acc: 0.0000e+00\n",
            "Epoch 11/30\n",
            "242/242 [==============================] - 0s 255us/step - loss: 5.0726 - acc: 0.6818 - val_loss: 15.9424 - val_acc: 0.0000e+00\n",
            "Epoch 12/30\n",
            "242/242 [==============================] - 0s 271us/step - loss: 5.0726 - acc: 0.6818 - val_loss: 15.9424 - val_acc: 0.0000e+00\n",
            "Epoch 13/30\n",
            "242/242 [==============================] - 0s 265us/step - loss: 5.0726 - acc: 0.6818 - val_loss: 15.9424 - val_acc: 0.0000e+00\n",
            "Epoch 14/30\n",
            "242/242 [==============================] - 0s 268us/step - loss: 5.0726 - acc: 0.6818 - val_loss: 15.9424 - val_acc: 0.0000e+00\n",
            "Epoch 15/30\n",
            "242/242 [==============================] - 0s 266us/step - loss: 5.0726 - acc: 0.6818 - val_loss: 15.9424 - val_acc: 0.0000e+00\n",
            "Epoch 16/30\n",
            "242/242 [==============================] - 0s 261us/step - loss: 5.0726 - acc: 0.6818 - val_loss: 15.9424 - val_acc: 0.0000e+00\n",
            "Epoch 17/30\n",
            "242/242 [==============================] - 0s 271us/step - loss: 5.0726 - acc: 0.6818 - val_loss: 15.9424 - val_acc: 0.0000e+00\n",
            "Epoch 18/30\n",
            "242/242 [==============================] - 0s 269us/step - loss: 5.0726 - acc: 0.6818 - val_loss: 15.9424 - val_acc: 0.0000e+00\n",
            "Epoch 19/30\n",
            "242/242 [==============================] - 0s 313us/step - loss: 5.0726 - acc: 0.6818 - val_loss: 15.9424 - val_acc: 0.0000e+00\n",
            "Epoch 20/30\n",
            "242/242 [==============================] - 0s 292us/step - loss: 5.0726 - acc: 0.6818 - val_loss: 15.9424 - val_acc: 0.0000e+00\n",
            "Epoch 21/30\n",
            "242/242 [==============================] - 0s 283us/step - loss: 5.0726 - acc: 0.6818 - val_loss: 15.9424 - val_acc: 0.0000e+00\n",
            "Epoch 22/30\n",
            "242/242 [==============================] - 0s 314us/step - loss: 5.0726 - acc: 0.6818 - val_loss: 15.9424 - val_acc: 0.0000e+00\n",
            "Epoch 23/30\n",
            "242/242 [==============================] - 0s 287us/step - loss: 5.0726 - acc: 0.6818 - val_loss: 15.9424 - val_acc: 0.0000e+00\n",
            "Epoch 24/30\n",
            "242/242 [==============================] - 0s 280us/step - loss: 5.0726 - acc: 0.6818 - val_loss: 15.9424 - val_acc: 0.0000e+00\n",
            "Epoch 25/30\n",
            "242/242 [==============================] - 0s 285us/step - loss: 5.0726 - acc: 0.6818 - val_loss: 15.9424 - val_acc: 0.0000e+00\n",
            "Epoch 26/30\n",
            "242/242 [==============================] - 0s 283us/step - loss: 5.0726 - acc: 0.6818 - val_loss: 15.9424 - val_acc: 0.0000e+00\n",
            "Epoch 27/30\n",
            "242/242 [==============================] - 0s 278us/step - loss: 5.0726 - acc: 0.6818 - val_loss: 15.9424 - val_acc: 0.0000e+00\n",
            "Epoch 28/30\n",
            "242/242 [==============================] - 0s 322us/step - loss: 5.0726 - acc: 0.6818 - val_loss: 15.9424 - val_acc: 0.0000e+00\n",
            "Epoch 29/30\n",
            "242/242 [==============================] - 0s 291us/step - loss: 5.0726 - acc: 0.6818 - val_loss: 15.9424 - val_acc: 0.0000e+00\n",
            "Epoch 30/30\n",
            "242/242 [==============================] - 0s 279us/step - loss: 5.0726 - acc: 0.6818 - val_loss: 15.9424 - val_acc: 0.0000e+00\n"
          ],
          "name": "stdout"
        },
        {
          "output_type": "execute_result",
          "data": {
            "text/plain": [
              "<keras.callbacks.History at 0x7f3c0cac5358>"
            ]
          },
          "metadata": {
            "tags": []
          },
          "execution_count": 14
        }
      ]
    },
    {
      "metadata": {
        "id": "bNJeZ_Xiv4CW",
        "colab_type": "text"
      },
      "cell_type": "markdown",
      "source": [
        "Q. 3.e Accuray after 20 epoch is 68.18%"
      ]
    },
    {
      "metadata": {
        "id": "nXfI_JaAvmbG",
        "colab_type": "text"
      },
      "cell_type": "markdown",
      "source": [
        "Q.4 Overfitting refers to a model that models the training data too well. when a model learns the detail and noise in the training data to the extent that it negatively impacts the performance of the model on new data\n",
        "\n",
        "Underfitting refers to a model that can neither model the training data nor generalize to new data. The machine learning model is not a suitable model and will be obvious as it will have poor performance on the training data"
      ]
    },
    {
      "metadata": {
        "id": "CW0phio4xC4f",
        "colab_type": "text"
      },
      "cell_type": "markdown",
      "source": [
        "Q.5 To reduce overfitting is to lower the capacity of the model to memorize the training data. As such, the model will need to focus on the relevant patterns in the training data, which results in better generalization. In this post, we’ll discuss three options to achieve this"
      ]
    },
    {
      "metadata": {
        "id": "MPPSHoaznB7n",
        "colab_type": "code",
        "colab": {}
      },
      "cell_type": "code",
      "source": [
        ""
      ],
      "execution_count": 0,
      "outputs": []
    }
  ]
}