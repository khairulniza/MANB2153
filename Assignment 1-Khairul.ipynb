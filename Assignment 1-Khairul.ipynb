{
 "cells": [
  {
   "attachments": {},
   "cell_type": "markdown",
   "metadata": {},
   "source": [
    "# Khairulniza Bin Ibrahim\n",
    "## List few definitions of Machine Learning (with referrences if possuble), and example of application. Write in paragraph at Jupyter Notebook?"
   ]
  },
  {
   "cell_type": "markdown",
   "metadata": {},
   "source": [
    "## **_Definition of Machine Learning (3):_**\n",
    "\n",
    "\n",
    "**_Marriam-Webster_**:\n",
    "> Capability of a machine to improve its own performance. It does so by using a statistical model to make decisions and incorporating the result of each new trial into that model. In essence, the machine is programmed to learn through trial and error (Marriam-Webster)\n",
    "\n",
    "**_Hands-On Machine Learning with Scikit-Learn and TensorFlow_**, Oreilly\n",
    "> Machine learning is the \"science and art\" of programming computers so they can learn from data (Aurélien Géron, 2017) \n",
    "\n",
    "**_Machine Learning_**, McGraw-Hill Science\n",
    "> A computer program is said to learn from experience E with respect to some class of tasks T and performance measure P, if its performance at tasks in T, as measured by P, improves with experience E (Tom M. Mitchell, 1997)\n",
    "    \n"
   ]
  },
  {
   "cell_type": "markdown",
   "metadata": {},
   "source": [
    "## **_Example of ML application (5)_**\n",
    "\n",
    "1. Email spam filtering\n",
    "2. Face detection or recongnition\n",
    "3. Weather prediction\n",
    "4. Credit card fraud detection\n",
    "5. Medical diagnosis"
   ]
  },
  {
   "cell_type": "markdown",
   "metadata": {},
   "source": [
    "## **_References_**\n",
    "\n",
    "https://www.merriam-webster.com/words-at-play/what-does-machine-learning-mean\n",
    "\n",
    "https://www.oreilly.com/library/view/hands-on-machine-learning/9781491962282/?utm_source=oreilly&utm_medium=newsite&utm_campaign=machine-learning-quick-and-simple-definition-body-text-cta\n",
    "\n",
    "http://profsite.um.ac.ir/~monsefi/machine-learning/pdf/Machine-Learning-Tom-Mitchell.pdf"
   ]
  }
 ],
 "metadata": {
  "kernelspec": {
   "display_name": "Python 3",
   "language": "python",
   "name": "python3"
  },
  "language_info": {
   "codemirror_mode": {
    "name": "ipython",
    "version": 3
   },
   "file_extension": ".py",
   "mimetype": "text/x-python",
   "name": "python",
   "nbconvert_exporter": "python",
   "pygments_lexer": "ipython3",
   "version": "3.7.0"
  }
 },
 "nbformat": 4,
 "nbformat_minor": 2
}
