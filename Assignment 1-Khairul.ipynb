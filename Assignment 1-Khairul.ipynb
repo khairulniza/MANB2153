{
 "cells": [
  {
   "cell_type": "markdown",
   "metadata": {},
   "source": [
    "# Khairulniza Bin Ibrahim\n",
    "## List few definitions of Machine Learning (with referrences if possuble), and example of application. Write in paragraph at Jupyter Notebook?"
   ]
  },
  {
   "cell_type": "markdown",
   "metadata": {},
   "source": [
    "## **_Definition of Machine Learning (3):_**\n",
    "\n",
    "\n",
    "**_Marriam-Webster_**:\n",
    "> Capability of a machine to improve its own performance. It does so by using a statistical model to make decisions and incorporating the result of each new trial into that model. In essence, the machine is programmed to learn through trial and error (Marriam-Webster)\n",
    "\n",
    "**_Hands-On Machine Learning with Scikit-Learn and TensorFlow_**, Oreilly\n",
    "> Machine learning is the \"science and art\" of programming computers so they can learn from data (Aurélien Géron, 2017) \n",
    "\n",
    "**_Machine Learning_**, McGraw-Hill Science\n",
    "> A computer program is said to learn from experience E with respect to some class of tasks T and performance measure P, if its performance at tasks in T, as measured by P, improves with experience E (Tom M. Mitchell, 1997)\n",
    "    \n"
   ]
  },
  {
   "cell_type": "markdown",
   "metadata": {},
   "source": [
    "## **_Example of ML application (5)_**\n",
    "\n",
    "1. Hand written detection/recognition\n",
    ">Used by US Postal Services to detect postal code. System is named as Optical Character Recognition (OCR) and was developed wayback 1960s. With recent upgrades, the system able to process in average 6,200 mail per hour.\n",
    "2. Face recongnition (facial biometrics) and security\n",
    ">Apple iPhone X, a smartphone featuring Face ID facial recognition as security. Sensor that consists of two parts: a dot projector module that projects more than 30,000 infrared dots onto the user's face, and an infrared camera module that reads the pattern. \n",
    "3. Weather prediction\n",
    ">A company named Earth Network uses 12,000 weather stations in more than 90 countries, along with 1,800 sensors in 50 countries for its Total Lightning Network. The Total Lightning Network can detect in-cloud lightning to generate storm alerts associated with severe weather like tornadoes and hail. With the collected data, prediction on weather conditions will be made.\n",
    "4. Autonomus Car\n",
    ">Tesla uses multiple external sensors to recognise nearby vehicles and hazards,and selects appropriate routes and lanes depending on the destination. It “‘automatically operates the steering wheel, accelerator and brakes’ to drive in much the same way as a person would drive.”\n",
    "5. Medical diagnosis using image detection\n",
    ">Google Deepmind Health. Use machine learning algorithms and teach the machine how to identify potential issues within images and results, and how to recommend the right course of action to a clinician"
   ]
  },
  {
   "cell_type": "markdown",
   "metadata": {},
   "source": [
    "## **_References_**\n",
    "\n",
    "https://www.merriam-webster.com/words-at-play/what-does-machine-learning-mean\n",
    "\n",
    "https://www.oreilly.com/library/view/hands-on-machine-learning/9781491962282/?utm_source=oreilly&utm_medium=newsite&utm_campaign=machine-learning-quick-and-simple-definition-body-text-cta\n",
    "\n",
    "http://profsite.um.ac.ir/~monsefi/machine-learning/pdf/Machine-Learning-Tom-Mitchell.pdf\n",
    "\n",
    "https://about.usps.com/publications/pub100/pub100_042.htm\n",
    "\n",
    "https://www.researchgate.net/publication/326025821_A_Review_of_Facial_Biometrics_Security_for_Smart_Devices\n",
    "\n",
    "https://journals.ametsoc.org/doi/pdf/10.1175/BAMS-D-16-0123.1\n",
    "\n",
    "https://www.researchgate.net/publication/303806260_Machine_Learning_Algorithms_and_Applications\n",
    "\n",
    "https://deepmind.com/applied/deepmind-health/working-partners/health-research-tomorrow/"
   ]
  },
  {
   "cell_type": "code",
   "execution_count": null,
   "metadata": {},
   "outputs": [],
   "source": []
  }
 ],
 "metadata": {
  "kernelspec": {
   "display_name": "Python 3",
   "language": "python",
   "name": "python3"
  },
  "language_info": {
   "codemirror_mode": {
    "name": "ipython",
    "version": 3
   },
   "file_extension": ".py",
   "mimetype": "text/x-python",
   "name": "python",
   "nbconvert_exporter": "python",
   "pygments_lexer": "ipython3",
   "version": "3.7.0"
  }
 },
 "nbformat": 4,
 "nbformat_minor": 2
}
